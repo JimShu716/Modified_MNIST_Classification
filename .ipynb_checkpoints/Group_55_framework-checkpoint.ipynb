{
  "nbformat": 4,
  "nbformat_minor": 0,
  "metadata": {
    "colab": {
      "name": "One Dragon",
      "provenance": [],
      "collapsed_sections": [],
      "toc_visible": true
    },
    "kernelspec": {
      "name": "python3",
      "display_name": "Python 3"
    },
    "accelerator": "GPU"
  },
  "cells": [
    {
      "cell_type": "code",
      "metadata": {
        "id": "aO77H0NIiwVw",
        "colab_type": "code",
        "outputId": "b049a566-0088-47d4-96ad-4300dfacbefc",
        "colab": {
          "base_uri": "https://localhost:8080/",
          "height": 121
        }
      },
      "source": [
        "# Import data storage from google\n",
        "from google.colab import drive\n",
        "drive.mount('/content/drive')"
      ],
      "execution_count": 0,
      "outputs": [
        {
          "output_type": "stream",
          "text": [
            "Go to this URL in a browser: https://accounts.google.com/o/oauth2/auth?client_id=947318989803-6bn6qk8qdgf4n4g3pfee6491hc0brc4i.apps.googleusercontent.com&redirect_uri=urn%3Aietf%3Awg%3Aoauth%3A2.0%3Aoob&scope=email%20https%3A%2F%2Fwww.googleapis.com%2Fauth%2Fdocs.test%20https%3A%2F%2Fwww.googleapis.com%2Fauth%2Fdrive%20https%3A%2F%2Fwww.googleapis.com%2Fauth%2Fdrive.photos.readonly%20https%3A%2F%2Fwww.googleapis.com%2Fauth%2Fpeopleapi.readonly&response_type=code\n",
            "\n",
            "Enter your authorization code:\n",
            "··········\n",
            "Mounted at /content/drive\n"
          ],
          "name": "stdout"
        }
      ]
    },
    {
      "cell_type": "code",
      "metadata": {
        "id": "eBYyGBDth8q7",
        "colab_type": "code",
        "outputId": "a12897fb-0516-40c3-a623-080d4d9eb958",
        "colab": {
          "base_uri": "https://localhost:8080/",
          "height": 79
        }
      },
      "source": [
        "# Set Environment Parameter\n",
        "\n",
        "from __future__ import print_function\n",
        "import keras\n",
        "import gc\n",
        "import tensorflow as tf\n",
        "import torch\n",
        "import pandas as pd\n",
        "from keras.callbacks import EarlyStopping\n",
        "from keras.models import Sequential, Model\n",
        "from keras.layers import Dense, Dropout, Flatten\n",
        "from keras.layers import Conv2D, MaxPooling2D\n",
        "from keras import backend as K\n",
        "import pandas as pd\n",
        "import numpy as np\n",
        "from scipy.stats import mode\n",
        "import matplotlib.pyplot as plt\n",
        "from keras.applications.vgg16 import VGG16\n",
        "from keras.applications.densenet import DenseNet201\n",
        "from keras_preprocessing.image import ImageDataGenerator\n",
        "from keras import backend as K"
      ],
      "execution_count": 0,
      "outputs": [
        {
          "output_type": "stream",
          "text": [
            "Using TensorFlow backend.\n"
          ],
          "name": "stderr"
        },
        {
          "output_type": "display_data",
          "data": {
            "text/html": [
              "<p style=\"color: red;\">\n",
              "The default version of TensorFlow in Colab will soon switch to TensorFlow 2.x.<br>\n",
              "We recommend you <a href=\"https://www.tensorflow.org/guide/migrate\" target=\"_blank\">upgrade</a> now \n",
              "or ensure your notebook will continue to use TensorFlow 1.x via the <code>%tensorflow_version 1.x</code> magic:\n",
              "<a href=\"https://colab.research.google.com/notebooks/tensorflow_version.ipynb\" target=\"_blank\">more info</a>.</p>\n"
            ],
            "text/plain": [
              "<IPython.core.display.HTML object>"
            ]
          },
          "metadata": {
            "tags": []
          }
        }
      ]
    },
    {
      "cell_type": "code",
      "metadata": {
        "id": "3bwlSbpniQzm",
        "colab_type": "code",
        "outputId": "408e7544-d5d9-4604-e4d1-32f7566ae302",
        "colab": {
          "base_uri": "https://localhost:8080/",
          "height": 101
        }
      },
      "source": [
        "#Varaibles\n",
        "batch_size = 100\n",
        "num_classes = 10\n",
        "\n",
        "#Acquire training data\n",
        "x_train = pd.read_pickle('/content/drive/My Drive/data/train_max_x')\n",
        "y_train = pd.read_csv('/content/drive/My Drive/data/train_max_y.csv',header=0)['Label'].values\n",
        "\n",
        "#Filter training data to remove noise\n",
        "for i in range(len(x_train)):\n",
        "  x_train[i] = (x_train[i]>200).astype('int32')\n",
        "  x_train[i] = x_train[i]*255\n",
        "\n",
        "#Change training data to tensor type\n",
        "x_train = torch.Tensor(x_train)\n",
        "x_train = torch.unsqueeze(x_train, dim=3)/255.\n",
        "x_train = x_train.numpy()\n",
        "x_train = x_train.astype('float32')\n",
        "\n",
        "y_train = keras.utils.to_categorical(y_train, num_classes)\n",
        "\n",
        "#split train and validation data\n",
        "x_valid = x_train[49500:50000]\n",
        "x_train = x_train[:49500]\n",
        "y_valid = y_train[49500:50000]\n",
        "y_train = y_train[:49500]\n",
        "\n",
        "#Confirm the data type\n",
        "print('x_train shape:', x_train.shape)\n",
        "print('x_valid shape:', x_valid.shape)\n",
        "print('y_train shape:', y_train.shape)\n",
        "print('y_valid shape:', y_valid.shape)\n",
        "\n",
        "#collect garbage\n",
        "gc.collect()"
      ],
      "execution_count": 0,
      "outputs": [
        {
          "output_type": "stream",
          "text": [
            "x_train shape: (49500, 128, 128, 1)\n",
            "x_valid shape: (500, 128, 128, 1)\n",
            "y_train shape: (49500, 10)\n",
            "y_valid shape: (500, 10)\n"
          ],
          "name": "stdout"
        },
        {
          "output_type": "execute_result",
          "data": {
            "text/plain": [
              "0"
            ]
          },
          "metadata": {
            "tags": []
          },
          "execution_count": 3
        }
      ]
    },
    {
      "cell_type": "markdown",
      "metadata": {
        "id": "kZK4z6U8_9e2",
        "colab_type": "text"
      },
      "source": [
        "Choose one to load/initialize the model"
      ]
    },
    {
      "cell_type": "code",
      "metadata": {
        "id": "sZ3I1Mu0h6q-",
        "colab_type": "code",
        "colab": {}
      },
      "source": [
        "#OPT1------\n",
        "#Initialize the model\n",
        "\n",
        "#Initialize the component\n",
        "des = DenseNet201(include_top=True, weights=None,input_shape=(128,128,3), classes=10)\n",
        "trans = keras.layers.Conv2D(filters=3,kernel_size=5,padding='same')\n",
        "\n",
        "#Add components to model\n",
        "model = Sequential()\n",
        "model.add(trans)\n",
        "model.add(des)\n",
        "model.compile(loss='categorical_crossentropy',\n",
        "       optimizer=keras.optimizers.Adam(lr=1e-4),\n",
        "       metrics=['accuracy'])\n",
        "\n"
      ],
      "execution_count": 0,
      "outputs": []
    },
    {
      "cell_type": "code",
      "metadata": {
        "id": "JEysPIkFXD7z",
        "colab_type": "code",
        "outputId": "8922e6bd-2625-43d8-fee7-6f1509d6f3d5",
        "colab": {
          "base_uri": "https://localhost:8080/",
          "height": 34
        }
      },
      "source": [
        "#OPT2------\n",
        "#Load the model\n",
        "model = keras.models.load_model('/content/drive/My Drive/script/DenseNet201_MD_LL_958')\n",
        "#Change the learning rate\n",
        "#Usually goes like 1e-4 5e-5 5e-6 5e-7end\n",
        "K.set_value(model.optimizer.lr, 5e-7)\n",
        "print(K.get_value(model.optimizer.lr))"
      ],
      "execution_count": 0,
      "outputs": [
        {
          "output_type": "stream",
          "text": [
            "5e-07\n"
          ],
          "name": "stdout"
        }
      ]
    },
    {
      "cell_type": "code",
      "metadata": {
        "id": "682DioUPkZ4T",
        "colab_type": "code",
        "outputId": "e4efcbd6-b8ba-456b-a949-dd1231a2a346",
        "colab": {
          "base_uri": "https://localhost:8080/",
          "height": 538
        }
      },
      "source": [
        "### TRAINING START! ###\n",
        "#Usually we go 5 models and then adjust the learning rate\n",
        "for i in range(5):\n",
        "  print('Trail: ',i)\n",
        "  history = model.fit(x_train, y_train, batch_size=batch_size, epochs=1, verbose=1)\n",
        "  score = model.evaluate(x_valid, y_valid, verbose=1)\n",
        "  print('Test loss:', score[0])\n",
        "  print('Test accuracy:', score[1])\n",
        "  model.save('DenseNet201_{}'.format(int(score[1]*1000)))\n",
        "del history\n",
        "gc.collect()"
      ],
      "execution_count": 0,
      "outputs": [
        {
          "output_type": "stream",
          "text": [
            "Trail:  0\n",
            "Epoch 1/1\n",
            "49500/49500 [==============================] - 263s 5ms/step - loss: 0.0122 - acc: 0.9973\n",
            "500/500 [==============================] - 13s 25ms/step\n",
            "Test loss: 0.19753894691169263\n",
            "Test accuracy: 0.956\n",
            "Trail:  1\n",
            "Epoch 1/1\n",
            "49500/49500 [==============================] - 214s 4ms/step - loss: 0.0120 - acc: 0.9977\n",
            "500/500 [==============================] - 1s 2ms/step\n",
            "Test loss: 0.20061024954915047\n",
            "Test accuracy: 0.954\n",
            "Trail:  2\n",
            "Epoch 1/1\n",
            "49500/49500 [==============================] - 214s 4ms/step - loss: 0.0119 - acc: 0.9975\n",
            "500/500 [==============================] - 1s 2ms/step\n",
            "Test loss: 0.199527631431818\n",
            "Test accuracy: 0.954\n",
            "Trail:  3\n",
            "Epoch 1/1\n",
            "49500/49500 [==============================] - 214s 4ms/step - loss: 0.0110 - acc: 0.9978\n",
            "500/500 [==============================] - 1s 2ms/step\n",
            "Test loss: 0.20305053141713142\n",
            "Test accuracy: 0.9519999995231628\n",
            "Trail:  4\n",
            "Epoch 1/1\n",
            "49500/49500 [==============================] - 214s 4ms/step - loss: 0.0112 - acc: 0.9977\n",
            "500/500 [==============================] - 1s 2ms/step\n",
            "Test loss: 0.20138729110360146\n",
            "Test accuracy: 0.954\n"
          ],
          "name": "stdout"
        },
        {
          "output_type": "execute_result",
          "data": {
            "text/plain": [
              "0"
            ]
          },
          "metadata": {
            "tags": []
          },
          "execution_count": 7
        }
      ]
    },
    {
      "cell_type": "code",
      "metadata": {
        "id": "Nw391UFdoFgB",
        "colab_type": "code",
        "colab": {}
      },
      "source": [
        "def votepredict(tot_predicted):\n",
        "    tot_predicted = np.transpose(tot_predicted)\n",
        "    vote_predicted = [mode(w).mode[0] for w in tot_predicted]\n",
        "    return vote_predicted"
      ],
      "execution_count": 0,
      "outputs": []
    },
    {
      "cell_type": "code",
      "metadata": {
        "id": "72j-BL5W4g8n",
        "colab_type": "code",
        "outputId": "b1491a1c-37b7-422d-cdc1-8af5818e17cb",
        "colab": {
          "base_uri": "https://localhost:8080/",
          "height": 1000
        }
      },
      "source": [
        "x_test = pd.read_pickle('/content/drive/My Drive/data/test_max_x')\n",
        "x_test = torch.Tensor(x_test)\n",
        "x_test = torch.unsqueeze(x_test, dim=3)/255.\n",
        "x_test = x_test.repeat(1,1,1,3)\n",
        "x_test = x_test.numpy()\n",
        "x_test = x_test.astype('float32')"
      ],
      "execution_count": 0,
      "outputs": [
        {
          "output_type": "stream",
          "text": [
            "ERROR:root:Internal Python error in the inspect module.\n",
            "Below is the traceback from this internal error.\n",
            "\n"
          ],
          "name": "stderr"
        },
        {
          "output_type": "stream",
          "text": [
            "Traceback (most recent call last):\n",
            "  File \"/usr/local/lib/python3.6/dist-packages/IPython/core/interactiveshell.py\", line 2882, in run_code\n",
            "    exec(code_obj, self.user_global_ns, self.user_ns)\n",
            "  File \"<ipython-input-4-129d9269648e>\", line 1, in <module>\n",
            "    x_test = pd.read_pickle('/content/drive/My Drive/data/test_max_x')\n",
            "  File \"/usr/local/lib/python3.6/dist-packages/pandas/io/pickle.py\", line 155, in read_pickle\n",
            "    return pickle.load(f)\n",
            "KeyboardInterrupt\n",
            "\n",
            "During handling of the above exception, another exception occurred:\n",
            "\n",
            "Traceback (most recent call last):\n",
            "  File \"/usr/local/lib/python3.6/dist-packages/IPython/core/interactiveshell.py\", line 1823, in showtraceback\n",
            "    stb = value._render_traceback_()\n",
            "AttributeError: 'KeyboardInterrupt' object has no attribute '_render_traceback_'\n",
            "\n",
            "During handling of the above exception, another exception occurred:\n",
            "\n",
            "Traceback (most recent call last):\n",
            "  File \"/usr/local/lib/python3.6/dist-packages/IPython/core/ultratb.py\", line 1132, in get_records\n",
            "    return _fixed_getinnerframes(etb, number_of_lines_of_context, tb_offset)\n",
            "  File \"/usr/local/lib/python3.6/dist-packages/IPython/core/ultratb.py\", line 313, in wrapped\n",
            "    return f(*args, **kwargs)\n",
            "  File \"/usr/local/lib/python3.6/dist-packages/IPython/core/ultratb.py\", line 358, in _fixed_getinnerframes\n",
            "    records = fix_frame_records_filenames(inspect.getinnerframes(etb, context))\n",
            "  File \"/usr/lib/python3.6/inspect.py\", line 1490, in getinnerframes\n",
            "    frameinfo = (tb.tb_frame,) + getframeinfo(tb, context)\n",
            "  File \"/usr/lib/python3.6/inspect.py\", line 1448, in getframeinfo\n",
            "    filename = getsourcefile(frame) or getfile(frame)\n",
            "  File \"/usr/lib/python3.6/inspect.py\", line 696, in getsourcefile\n",
            "    if getattr(getmodule(object, filename), '__loader__', None) is not None:\n",
            "  File \"/usr/lib/python3.6/inspect.py\", line 733, in getmodule\n",
            "    if ismodule(module) and hasattr(module, '__file__'):\n",
            "  File \"/usr/local/lib/python3.6/dist-packages/tensorflow/__init__.py\", line 50, in __getattr__\n",
            "    module = self._load()\n",
            "  File \"/usr/local/lib/python3.6/dist-packages/tensorflow/__init__.py\", line 44, in _load\n",
            "    module = _importlib.import_module(self.__name__)\n",
            "  File \"/usr/lib/python3.6/importlib/__init__.py\", line 126, in import_module\n",
            "    return _bootstrap._gcd_import(name[level:], package, level)\n",
            "  File \"<frozen importlib._bootstrap>\", line 994, in _gcd_import\n",
            "  File \"<frozen importlib._bootstrap>\", line 971, in _find_and_load\n",
            "  File \"<frozen importlib._bootstrap>\", line 955, in _find_and_load_unlocked\n",
            "  File \"<frozen importlib._bootstrap>\", line 665, in _load_unlocked\n",
            "  File \"<frozen importlib._bootstrap_external>\", line 678, in exec_module\n",
            "  File \"<frozen importlib._bootstrap>\", line 219, in _call_with_frames_removed\n",
            "  File \"/usr/local/lib/python3.6/dist-packages/tensorflow_core/contrib/__init__.py\", line 54, in <module>\n",
            "    from tensorflow.contrib import image\n",
            "  File \"/usr/local/lib/python3.6/dist-packages/tensorflow_core/contrib/image/__init__.py\", line 55, in <module>\n",
            "    from tensorflow.contrib.image.python.ops.dense_image_warp import dense_image_warp\n",
            "  File \"/usr/local/lib/python3.6/dist-packages/tensorflow_core/contrib/image/__init__.py\", line 55, in <module>\n",
            "    from tensorflow.contrib.image.python.ops.dense_image_warp import dense_image_warp\n",
            "  File \"<frozen importlib._bootstrap>\", line 971, in _find_and_load\n",
            "  File \"<frozen importlib._bootstrap>\", line 951, in _find_and_load_unlocked\n",
            "  File \"<frozen importlib._bootstrap>\", line 885, in _find_spec\n",
            "KeyboardInterrupt\n"
          ],
          "name": "stdout"
        },
        {
          "output_type": "error",
          "ename": "KeyboardInterrupt",
          "evalue": "ignored",
          "traceback": [
            "\u001b[0;31m---------------------------------------------------------------------------\u001b[0m"
          ]
        }
      ]
    },
    {
      "cell_type": "code",
      "metadata": {
        "id": "h83HuxWqEXkY",
        "colab_type": "code",
        "colab": {}
      },
      "source": [
        "x_test = pd.read_pickle('/content/drive/My Drive/data/test_max_x')\n",
        "for i in range(len(x_test)):\n",
        "  x_test[i] = (x_test[i]>200).astype('int32')\n",
        "  x_test[i] = x_test[i]*255\n",
        "x_test = torch.Tensor(x_test)\n",
        "x_test = torch.unsqueeze(x_test, dim=3)/255.\n",
        "x_test = x_test.repeat(1,1,1,3)\n",
        "x_test = x_test.numpy()"
      ],
      "execution_count": 0,
      "outputs": []
    },
    {
      "cell_type": "code",
      "metadata": {
        "id": "E7ajfKvo7Ndu",
        "colab_type": "code",
        "outputId": "fbd5773c-9b22-4dd2-b619-cff58cbdbffe",
        "colab": {
          "base_uri": "https://localhost:8080/",
          "height": 205
        }
      },
      "source": [
        "model = Sequential()\n",
        "model = keras.models.load_model('/content/drive/My Drive/script/DES169SP_1_0')\n",
        "pred = model.predict(x_test,verbose=1)\n",
        "pred1 = np.argmax(pred,axis=1)\n",
        "del model\n",
        "gc.collect()"
      ],
      "execution_count": 0,
      "outputs": [
        {
          "output_type": "stream",
          "text": [
            "WARNING:tensorflow:From /usr/local/lib/python3.6/dist-packages/keras/backend/tensorflow_backend.py:2041: The name tf.nn.fused_batch_norm is deprecated. Please use tf.compat.v1.nn.fused_batch_norm instead.\n",
            "\n"
          ],
          "name": "stdout"
        },
        {
          "output_type": "stream",
          "text": [
            "WARNING:tensorflow:From /usr/local/lib/python3.6/dist-packages/keras/backend/tensorflow_backend.py:2041: The name tf.nn.fused_batch_norm is deprecated. Please use tf.compat.v1.nn.fused_batch_norm instead.\n",
            "\n"
          ],
          "name": "stderr"
        },
        {
          "output_type": "stream",
          "text": [
            "WARNING:tensorflow:From /usr/local/lib/python3.6/dist-packages/keras/backend/tensorflow_backend.py:4271: The name tf.nn.avg_pool is deprecated. Please use tf.nn.avg_pool2d instead.\n",
            "\n"
          ],
          "name": "stdout"
        },
        {
          "output_type": "stream",
          "text": [
            "WARNING:tensorflow:From /usr/local/lib/python3.6/dist-packages/keras/backend/tensorflow_backend.py:4271: The name tf.nn.avg_pool is deprecated. Please use tf.nn.avg_pool2d instead.\n",
            "\n"
          ],
          "name": "stderr"
        },
        {
          "output_type": "stream",
          "text": [
            "10000/10000 [==============================] - 53s 5ms/step\n"
          ],
          "name": "stdout"
        },
        {
          "output_type": "execute_result",
          "data": {
            "text/plain": [
              "94"
            ]
          },
          "metadata": {
            "tags": []
          },
          "execution_count": 31
        }
      ]
    },
    {
      "cell_type": "code",
      "metadata": {
        "id": "UW2sWACQIm3b",
        "colab_type": "code",
        "outputId": "24b95d28-9913-4295-e1f6-d87f6cc2c265",
        "colab": {
          "base_uri": "https://localhost:8080/",
          "height": 34
        }
      },
      "source": [
        "pred1[:10]"
      ],
      "execution_count": 0,
      "outputs": [
        {
          "output_type": "execute_result",
          "data": {
            "text/plain": [
              "array([9, 6, 4, 9, 5, 8, 2, 4, 5, 9])"
            ]
          },
          "metadata": {
            "tags": []
          },
          "execution_count": 22
        }
      ]
    },
    {
      "cell_type": "code",
      "metadata": {
        "id": "MqEHAsjJ4SJP",
        "colab_type": "code",
        "colab": {}
      },
      "source": [
        "tot_pred = np.append(tot_pred,[pred1],axis=0)"
      ],
      "execution_count": 0,
      "outputs": []
    },
    {
      "cell_type": "code",
      "metadata": {
        "id": "NckqZ9Xf5_Zu",
        "colab_type": "code",
        "colab": {}
      },
      "source": [
        "tot_pred = np.array([pred1])"
      ],
      "execution_count": 0,
      "outputs": []
    },
    {
      "cell_type": "code",
      "metadata": {
        "id": "BKLSCGWv0qSA",
        "colab_type": "code",
        "outputId": "58432979-bc6c-4783-ad6c-99d23f1a62f1",
        "colab": {
          "base_uri": "https://localhost:8080/",
          "height": 34
        }
      },
      "source": [
        "print(tot_pred[:,:30])"
      ],
      "execution_count": 0,
      "outputs": [
        {
          "output_type": "stream",
          "text": [
            "[[9 6 4 9 5 8 2 4 5 9 4 9 8 9 9 6 8 7 4 6 7 7 6 5 8 9 5 6 8 6]]\n"
          ],
          "name": "stdout"
        }
      ]
    },
    {
      "cell_type": "code",
      "metadata": {
        "id": "6xhKRKkQ6RWV",
        "colab_type": "code",
        "colab": {}
      },
      "source": [
        "vote = votepredict(tot_pred)\n",
        "df = pd.DataFrame({'Label': vote})\n",
        "df.to_csv(r'solution997.csv')"
      ],
      "execution_count": 0,
      "outputs": []
    },
    {
      "cell_type": "code",
      "metadata": {
        "id": "vqdyrivY7o7M",
        "colab_type": "code",
        "outputId": "8c0700b9-6a3c-4bba-f715-1e4a50a99790",
        "colab": {
          "base_uri": "https://localhost:8080/",
          "height": 285
        }
      },
      "source": [
        "plt.imshow(x_test[4][:,:,0],cmap='gray')\n"
      ],
      "execution_count": 0,
      "outputs": [
        {
          "output_type": "execute_result",
          "data": {
            "text/plain": [
              "90"
            ]
          },
          "metadata": {
            "tags": []
          },
          "execution_count": 7
        },
        {
          "output_type": "display_data",
          "data": {
            "image/png": "[encoded data removed]",
            "text/plain": [
              "<Figure size 432x288 with 1 Axes>"
            ]
          },
          "metadata": {
            "tags": []
          }
        }
      ]
    },
    {
      "cell_type": "code",
      "metadata": {
        "id": "QzUGHK6aGC0I",
        "colab_type": "code",
        "colab": {}
      },
      "source": [
        "tp = pd.DataFrame(tot_pred)\n",
        "tp.to_csv(r'/content/drive/My Drive/temp.csv',header=False,index=False)"
      ],
      "execution_count": 0,
      "outputs": []
    },
    {
      "cell_type": "code",
      "metadata": {
        "id": "ebvyf5JP3Guo",
        "colab_type": "code",
        "outputId": "728a0921-9fe7-4af7-f767-f80c50283f27",
        "colab": {
          "base_uri": "https://localhost:8080/",
          "height": 252
        }
      },
      "source": [
        "pp = np.append(pp,[tot_pred[2]],axis=0)\n",
        "print(pp[:,:50])"
      ],
      "execution_count": 0,
      "outputs": [
        {
          "output_type": "stream",
          "text": [
            "[[9 6 4 9 5 8 2 4 5 9 4 9 8 9 9 6 8 7 4 6 7 7 6 5 8 9 5 6 8 6 7 9 3 8 7 6\n",
            "  9 8 8 8 9 9 8 9 9 4 8 9 9 9]\n",
            " [9 6 4 9 5 8 2 4 5 9 4 9 8 9 9 6 8 7 4 6 7 7 6 5 8 9 5 6 8 6 7 9 3 8 7 6\n",
            "  9 8 8 8 9 8 8 9 9 4 8 9 9 9]\n",
            " [9 6 4 9 5 8 2 4 5 9 4 9 8 9 9 6 8 7 4 6 7 7 6 5 8 9 5 6 8 6 7 9 3 8 7 6\n",
            "  9 8 8 8 9 7 8 9 9 4 8 9 9 9]\n",
            " [9 6 4 9 5 8 2 4 5 9 4 9 8 9 9 6 8 7 4 6 7 7 6 5 8 9 5 6 8 6 7 9 3 8 7 6\n",
            "  9 8 8 8 9 9 8 9 9 4 8 9 9 9]\n",
            " [9 6 4 9 5 8 2 4 5 9 4 9 8 9 9 6 8 7 4 6 7 7 6 5 8 9 5 6 8 6 7 9 3 8 7 6\n",
            "  9 8 8 8 9 9 8 9 9 4 8 9 9 9]\n",
            " [9 6 4 9 5 8 2 4 5 9 4 9 8 9 9 6 8 7 4 6 7 7 6 5 8 9 5 6 8 6 7 9 3 8 7 6\n",
            "  9 8 8 8 9 8 8 9 9 4 8 9 9 9]\n",
            " [9 6 4 9 5 8 2 4 5 9 4 9 8 9 9 6 8 7 4 6 7 7 6 5 8 9 5 6 8 6 7 9 3 8 7 6\n",
            "  9 8 8 8 9 7 8 9 9 4 8 9 9 9]]\n"
          ],
          "name": "stdout"
        }
      ]
    },
    {
      "cell_type": "code",
      "metadata": {
        "id": "dmyrK6DQKt5_",
        "colab_type": "code",
        "colab": {}
      },
      "source": [
        "csv_name = '/content/solution22.csv'\n",
        "tot_pred = np.genfromtxt(csv_name, delimiter=',',dtype='int32')\n",
        "tot_pred = tot_pred.T\n",
        "tot_pred = np.delete(tot_pred,0,0)\n",
        "tot_pred = np.delete(tot_pred,0,1)"
      ],
      "execution_count": 0,
      "outputs": []
    },
    {
      "cell_type": "code",
      "metadata": {
        "id": "V0BdtJ6pQTr4",
        "colab_type": "code",
        "colab": {}
      },
      "source": [
        "tot_pred = np.array(tot_pred)"
      ],
      "execution_count": 0,
      "outputs": []
    }
  ]
}